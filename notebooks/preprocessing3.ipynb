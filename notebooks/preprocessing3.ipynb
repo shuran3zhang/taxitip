{
 "cells": [
  {
   "cell_type": "code",
   "execution_count": 1,
   "metadata": {},
   "outputs": [
    {
     "name": "stderr",
     "output_type": "stream",
     "text": [
      "Setting default log level to \"WARN\".\n",
      "To adjust logging level use sc.setLogLevel(newLevel). For SparkR, use setLogLevel(newLevel).\n",
      "23/12/02 15:58:50 WARN NativeCodeLoader: Unable to load native-hadoop library for your platform... using builtin-java classes where applicable\n"
     ]
    }
   ],
   "source": [
    "from pyspark.sql import SparkSession, functions as F\n",
    "\n",
    "# Create a spark session (which will run spark jobs)\n",
    "spark = (\n",
    "    SparkSession.builder.appName(\"MAST30034 Tutorial 2\")\n",
    "    .config(\"spark.sql.repl.eagerEval.enabled\", True)\n",
    "    .config(\"spark.sql.parquet.cacheMetadata\", \"true\")\n",
    "    .config(\"spark.sql.session.timeZone\", \"Etc/UTC\")\n",
    "    .config('spark.driver.memory', '4g')\n",
    "    .config('spark.executor.memory', '2g')\n",
    "    .getOrCreate()\n",
    ")"
   ]
  },
  {
   "cell_type": "code",
   "execution_count": 2,
   "metadata": {},
   "outputs": [
    {
     "name": "stderr",
     "output_type": "stream",
     "text": [
      "23/12/02 15:59:08 WARN GarbageCollectionMetrics: To enable non-built-in garbage collector(s) List(G1 Concurrent GC), users should configure it(them) to spark.eventLog.gcMetrics.youngGenerationGarbageCollectors or spark.eventLog.gcMetrics.oldGenerationGarbageCollectors\n"
     ]
    }
   ],
   "source": [
    "import delta\n",
    "from pyspark.sql.functions import concat,lit,substring\n",
    "import pandas as pd\n",
    "from pyspark.sql.functions import *\n",
    "from pyspark.sql.functions import when"
   ]
  },
  {
   "cell_type": "code",
   "execution_count": 10,
   "metadata": {},
   "outputs": [],
   "source": [
    "# read data\n",
    "yellow = spark.read.parquet(\"../data/landing/yellow_data/*\")"
   ]
  },
  {
   "cell_type": "code",
   "execution_count": 11,
   "metadata": {},
   "outputs": [
    {
     "data": {
      "text/plain": [
       "39656098"
      ]
     },
     "execution_count": 11,
     "metadata": {},
     "output_type": "execute_result"
    }
   ],
   "source": [
    "# get the original data size\n",
    "yellow.count()"
   ]
  },
  {
   "cell_type": "markdown",
   "metadata": {},
   "source": [
    "Remove data with 0 and less than 0 passenger and trip distance"
   ]
  },
  {
   "cell_type": "code",
   "execution_count": 12,
   "metadata": {},
   "outputs": [
    {
     "data": {
      "text/plain": [
       "763344"
      ]
     },
     "execution_count": 12,
     "metadata": {},
     "output_type": "execute_result"
    }
   ],
   "source": [
    "# get the number of data we are going to remove\n",
    "(yellow.where(F.col('passenger_count') <= 0)).count()"
   ]
  },
  {
   "cell_type": "code",
   "execution_count": 13,
   "metadata": {},
   "outputs": [
    {
     "data": {
      "text/plain": [
       "574059"
      ]
     },
     "execution_count": 13,
     "metadata": {},
     "output_type": "execute_result"
    }
   ],
   "source": [
    "(yellow.where(F.col('trip_distance') <= 0)).count()"
   ]
  },
  {
   "cell_type": "code",
   "execution_count": 14,
   "metadata": {},
   "outputs": [],
   "source": [
    "# remove data with 0 passener and 0 trip distance\n",
    "yellow = yellow.where((F.col('passenger_count') > 0) & (F.col('trip_distance') > 0))"
   ]
  },
  {
   "cell_type": "markdown",
   "metadata": {},
   "source": [
    "According to the law of New York Transport, the maximum passenger of yellow taxi is 5, so we exclude trip that have at least 6 passengers."
   ]
  },
  {
   "cell_type": "code",
   "execution_count": 15,
   "metadata": {},
   "outputs": [
    {
     "name": "stderr",
     "output_type": "stream",
     "text": [
      "[Stage 23:=======================>                                 (5 + 7) / 12]\r"
     ]
    },
    {
     "name": "stdout",
     "output_type": "stream",
     "text": [
      "457191\n"
     ]
    },
    {
     "name": "stderr",
     "output_type": "stream",
     "text": [
      "                                                                                \r"
     ]
    }
   ],
   "source": [
    "# get the number of data we are going to remove\n",
    "print((yellow.where(F.col('passenger_count') > 5)).count())\n",
    "# remove data with more than 5 passengers\n",
    "yellow = yellow.where((F.col('passenger_count')) <= 5)"
   ]
  },
  {
   "cell_type": "markdown",
   "metadata": {},
   "source": [
    "Check whether there are only data in 2022, and extract the year and date for each trip"
   ]
  },
  {
   "cell_type": "code",
   "execution_count": 16,
   "metadata": {},
   "outputs": [],
   "source": [
    "# create a function to identify the pick up year and date, and store them into two attributes.\n",
    "def year_date(file):\n",
    "    file = file.withColumn(\"pickup_year\",substring(\"tpep_pickup_datetime\",1,4))\n",
    "    file = file.withColumn(\"pickup_date\",substring(\"tpep_pickup_datetime\",6,5))\n",
    "    return file"
   ]
  },
  {
   "cell_type": "code",
   "execution_count": 17,
   "metadata": {},
   "outputs": [],
   "source": [
    "# identify the year and date for our data set\n",
    "yellow = year_date(yellow)"
   ]
  },
  {
   "cell_type": "code",
   "execution_count": 18,
   "metadata": {},
   "outputs": [
    {
     "name": "stderr",
     "output_type": "stream",
     "text": [
      "                                                                                \r"
     ]
    },
    {
     "data": {
      "text/html": [
       "<table border='1'>\n",
       "<tr><th>pickup_year</th><th>count</th></tr>\n",
       "<tr><td>2009</td><td>36</td></tr>\n",
       "<tr><td>2022</td><td>36580858</td></tr>\n",
       "<tr><td>2008</td><td>33</td></tr>\n",
       "<tr><td>2003</td><td>7</td></tr>\n",
       "<tr><td>2002</td><td>366</td></tr>\n",
       "<tr><td>2023</td><td>5</td></tr>\n",
       "<tr><td>2001</td><td>6</td></tr>\n",
       "<tr><td>2021</td><td>23</td></tr>\n",
       "</table>\n"
      ],
      "text/plain": [
       "+-----------+--------+\n",
       "|pickup_year|   count|\n",
       "+-----------+--------+\n",
       "|       2009|      36|\n",
       "|       2022|36580858|\n",
       "|       2008|      33|\n",
       "|       2003|       7|\n",
       "|       2002|     366|\n",
       "|       2023|       5|\n",
       "|       2001|       6|\n",
       "|       2021|      23|\n",
       "+-----------+--------+"
      ]
     },
     "execution_count": 18,
     "metadata": {},
     "output_type": "execute_result"
    }
   ],
   "source": [
    "# see whether there is only 2022 data\n",
    "yellow.groupby('pickup_year').count()"
   ]
  },
  {
   "cell_type": "code",
   "execution_count": 19,
   "metadata": {},
   "outputs": [
    {
     "name": "stderr",
     "output_type": "stream",
     "text": [
      "[Stage 32:==========================================>              (9 + 3) / 12]\r"
     ]
    },
    {
     "name": "stdout",
     "output_type": "stream",
     "text": [
      "476\n"
     ]
    },
    {
     "name": "stderr",
     "output_type": "stream",
     "text": [
      "                                                                                \r"
     ]
    }
   ],
   "source": [
    "# get the number of data we are going to remove\n",
    "print((yellow.where(F.col('pickup_year') != 2022)).count())\n",
    "# only keep data in 2022\n",
    "yellow = yellow.where(F.col('pickup_year') == 2022)"
   ]
  },
  {
   "cell_type": "markdown",
   "metadata": {},
   "source": [
    "Identify whether the trip is happened at holiday\\\n",
    "https://www.officeholidays.com/countries/usa/new-york/2022"
   ]
  },
  {
   "cell_type": "code",
   "execution_count": 20,
   "metadata": {},
   "outputs": [],
   "source": [
    "# create a list of holiday dates\n",
    "holiday = ['01-01','01-17','02-12','02-21','04-17','05-08','05-30','06-19','06-20',\n",
    "           '07-04','09-05','10-10','11-08','11-11','11-24','12-25','12-26']\n",
    "\n",
    "# create a boolean value to see whether the trip occurred at a holiday\n",
    "yellow = yellow.withColumn(\"holiday\", lit(yellow['pickup_date'].isin(holiday)))\n",
    "yellow = yellow.withColumn('holiday',when(yellow.holiday == True, 1)\\\n",
    "    .otherwise(0))"
   ]
  },
  {
   "cell_type": "markdown",
   "metadata": {},
   "source": [
    "Identify whether the trip is happened at the weekend"
   ]
  },
  {
   "cell_type": "code",
   "execution_count": 21,
   "metadata": {},
   "outputs": [],
   "source": [
    "# create a boolean value to see whether the trip occurred at weekend\n",
    "yellow = yellow.withColumn(\"weekend\", dayofweek(col(\"tpep_pickup_datetime\")).isin(['6','7']))\n",
    "yellow = yellow.withColumn('weekend',when(yellow.weekend == True, 1)\\\n",
    "    .otherwise(0))"
   ]
  },
  {
   "cell_type": "markdown",
   "metadata": {},
   "source": [
    "Given by the description of TLC, we  only have 2 values for vendorID, so we change it into boolean."
   ]
  },
  {
   "cell_type": "code",
   "execution_count": 22,
   "metadata": {},
   "outputs": [],
   "source": [
    "# change vendorid into boolean\n",
    "yellow = yellow.withColumn('vendorid',when(yellow.vendorid == 1, 0)\\\n",
    "    .otherwise(1))"
   ]
  },
  {
   "cell_type": "markdown",
   "metadata": {},
   "source": [
    "Since this project focus on tip amount, and only credit card payment has tip amount, so we only keep trip paid by credit card."
   ]
  },
  {
   "cell_type": "code",
   "execution_count": 23,
   "metadata": {},
   "outputs": [
    {
     "name": "stderr",
     "output_type": "stream",
     "text": [
      "[Stage 35:==========================================>              (9 + 3) / 12]\r"
     ]
    },
    {
     "name": "stdout",
     "output_type": "stream",
     "text": [
      "7724991\n"
     ]
    },
    {
     "name": "stderr",
     "output_type": "stream",
     "text": [
      "                                                                                \r"
     ]
    }
   ],
   "source": [
    "# get the number of data we are going to remove\n",
    "print(yellow.where(F.col('payment_type') != 1).count())\n",
    "\n",
    "# keep trip paid by credit card\n",
    "yellow = yellow.where(F.col('payment_type') == 1)\n",
    "\n",
    "# calculate the proportion of tip in total amount of fare amount\n",
    "yellow = yellow.withColumn(\"tip_prop\", lit((yellow.tip_amount/yellow.fare_amount)))"
   ]
  },
  {
   "cell_type": "markdown",
   "metadata": {},
   "source": [
    "Identify the time slot\\\n",
    "1 for morning\\\n",
    "2 for afternoon\\\n",
    "3 for evening\\\n",
    "4 for midnight"
   ]
  },
  {
   "cell_type": "code",
   "execution_count": 24,
   "metadata": {},
   "outputs": [],
   "source": [
    "# create a function to identify the time spot. The category is written above.\n",
    "def time_slot(hour):\n",
    "    return (when(hour.isin(['6','7','8','9','10','11']), 1).\n",
    "    when(hour.isin(['12','13','14','15','16','17']),2).\n",
    "    when(hour.isin(['18','19','20','21','22']),3).\n",
    "    otherwise(4))"
   ]
  },
  {
   "cell_type": "code",
   "execution_count": 25,
   "metadata": {},
   "outputs": [],
   "source": [
    "# identify the time slot for each trip\n",
    "yellow = yellow.withColumn(\"time_slot\", lit(time_slot(hour('tpep_pickup_datetime'))))"
   ]
  },
  {
   "cell_type": "code",
   "execution_count": 26,
   "metadata": {},
   "outputs": [
    {
     "name": "stdout",
     "output_type": "stream",
     "text": [
      "+--------+--------------------+---------------------+---------------+-------------+----------+------------------+------------+------------+------------+-----------+-----+-------+----------+------------+---------------------+------------+--------------------+-----------+-----------+-----------+-------+-------+-------------------+---------+\n",
      "|vendorid|tpep_pickup_datetime|tpep_dropoff_datetime|passenger_count|trip_distance|ratecodeid|store_and_fwd_flag|pulocationid|dolocationid|payment_type|fare_amount|extra|mta_tax|tip_amount|tolls_amount|improvement_surcharge|total_amount|congestion_surcharge|airport_fee|pickup_year|pickup_date|holiday|weekend|           tip_prop|time_slot|\n",
      "+--------+--------------------+---------------------+---------------+-------------+----------+------------------+------------+------------+------------+-----------+-----+-------+----------+------------+---------------------+------------+--------------------+-----------+-----------+-----------+-------+-------+-------------------+---------+\n",
      "|       0| 2022-10-01 00:03:41|  2022-10-01 00:18:39|            1.0|          1.7|       1.0|                 N|         249|         107|           1|        9.5|  3.0|    0.5|      2.65|         0.0|                  0.3|       15.95|                 2.5|        0.0|       2022|      10-01|      0|      1| 0.2789473684210526|        4|\n",
      "|       1| 2022-10-01 00:27:13|  2022-10-01 00:37:41|            1.0|         1.74|       1.0|                 N|         238|         166|           1|        9.0|  0.5|    0.5|      2.06|         0.0|                  0.3|       12.36|                 0.0|        0.0|       2022|      10-01|      0|      1| 0.2288888888888889|        4|\n",
      "|       0| 2022-10-01 00:02:42|  2022-10-01 00:50:01|            1.0|         12.2|       1.0|                 N|         100|          22|           1|       41.0|  3.0|    0.5|       3.0|         0.0|                  0.3|        47.8|                 2.5|        0.0|       2022|      10-01|      0|      1|0.07317073170731707|        4|\n",
      "|       1| 2022-10-01 00:06:35|  2022-10-01 00:24:38|            1.0|         7.79|       1.0|                 N|         138|         112|           1|       23.5|  0.5|    0.5|      4.96|         0.0|                  0.3|       31.01|                 0.0|       1.25|       2022|      10-01|      0|      1|0.21106382978723404|        4|\n",
      "|       1| 2022-10-01 00:29:25|  2022-10-01 00:43:15|            1.0|         4.72|       1.0|                 N|         145|          75|           1|       14.5|  0.5|    0.5|       1.5|         0.0|                  0.3|        19.8|                 2.5|        0.0|       2022|      10-01|      0|      1|0.10344827586206896|        4|\n",
      "+--------+--------------------+---------------------+---------------+-------------+----------+------------------+------------+------------+------------+-----------+-----+-------+----------+------------+---------------------+------------+--------------------+-----------+-----------+-----------+-------+-------+-------------------+---------+\n",
      "only showing top 5 rows\n",
      "\n"
     ]
    }
   ],
   "source": [
    "yellow.show(5)"
   ]
  },
  {
   "cell_type": "code",
   "execution_count": 27,
   "metadata": {},
   "outputs": [],
   "source": [
    "# drop columns that we are no longer interested\n",
    "yellow = yellow.drop(\"tpep_pickup_datetime\",\"tpep_dropoff_datetime\",\"payment_type\")"
   ]
  },
  {
   "cell_type": "code",
   "execution_count": 28,
   "metadata": {},
   "outputs": [
    {
     "name": "stderr",
     "output_type": "stream",
     "text": [
      "                                                                                \r"
     ]
    },
    {
     "data": {
      "text/plain": [
       "28855867"
      ]
     },
     "execution_count": 28,
     "metadata": {},
     "output_type": "execute_result"
    }
   ],
   "source": [
    "yellow.count()"
   ]
  },
  {
   "cell_type": "code",
   "execution_count": 29,
   "metadata": {},
   "outputs": [
    {
     "name": "stderr",
     "output_type": "stream",
     "text": [
      "[Stage 42:==========================================>              (9 + 3) / 12]\r"
     ]
    },
    {
     "name": "stdout",
     "output_type": "stream",
     "text": [
      "28855311\n"
     ]
    },
    {
     "name": "stderr",
     "output_type": "stream",
     "text": [
      "                                                                                \r"
     ]
    }
   ],
   "source": [
    "# remove data that have at least null attribute value\n",
    "yellow = yellow.dropna(\"any\")\n",
    "print(yellow.count())"
   ]
  },
  {
   "cell_type": "markdown",
   "metadata": {},
   "source": [
    "Detect outliers"
   ]
  },
  {
   "cell_type": "code",
   "execution_count": 30,
   "metadata": {},
   "outputs": [
    {
     "name": "stderr",
     "output_type": "stream",
     "text": [
      "23/12/02 16:08:26 WARN package: Truncated the string representation of a plan since it was too large. This behavior can be adjusted by setting 'spark.sql.debug.maxToStringFields'.\n",
      "[Stage 45:===================================================>    (11 + 1) / 12]\r"
     ]
    },
    {
     "name": "stdout",
     "output_type": "stream",
     "text": [
      "+-------+-----------------+--------------------+-----------------+------------------+------------------+\n",
      "|summary|    trip_distance|            tip_prop|       tip_amount|       fare_amount|      total_amount|\n",
      "+-------+-----------------+--------------------+-----------------+------------------+------------------+\n",
      "|  count|         28855311|            28855311|         28855311|          28855311|          28855311|\n",
      "|   mean|3.575562669208323| 0.26614249950104624|3.437386629101838|14.658658134025153|22.297837891799354|\n",
      "| stddev|45.64512529362483|   6.368615125612078|3.223870712233825|13.229839759989726|17.258291872463527|\n",
      "|    min|             0.01|-0.24400000000000002|           -98.01|             -93.3|            -174.3|\n",
      "|    max|        164072.79|             20000.0|          1400.16|             870.0|           1447.96|\n",
      "+-------+-----------------+--------------------+-----------------+------------------+------------------+\n",
      "\n"
     ]
    },
    {
     "name": "stderr",
     "output_type": "stream",
     "text": [
      "                                                                                \r"
     ]
    }
   ],
   "source": [
    "# use summary to compare the mean, standatd deviance, minimum and maximum to detect outliers.\n",
    "yellow.select('trip_distance','tip_prop','tip_amount','fare_amount','total_amount').describe().show()"
   ]
  },
  {
   "cell_type": "markdown",
   "metadata": {},
   "source": [
    "From research, the recommended tip amount should be 20% of the fare amount. Hence, we keep trip with tip proportion within 0 and 0.5.\\\n",
    "https://newyorkpass.com/en-us/blog/cab-etiquette-in-nyc#:~:text=How%20much%20should%20I%20tip,fee%20is%20the%20recommended%20amount.\\\n",
    "Also, the average distance of yellow taxi is 300 km, so we remove unrealistic trip distance.\\\n",
    "https://en.wikipedia.org/wiki/Taxis_of_New_York_City#:~:text=Taxicab%20vehicles%2C%20each%20of%20which,taxicab%20medallion%20licenses%20in%20existence."
   ]
  },
  {
   "cell_type": "code",
   "execution_count": 31,
   "metadata": {},
   "outputs": [
    {
     "name": "stderr",
     "output_type": "stream",
     "text": [
      "[Stage 48:==============================================>         (10 + 2) / 12]\r"
     ]
    },
    {
     "name": "stdout",
     "output_type": "stream",
     "text": [
      "475570\n"
     ]
    },
    {
     "name": "stderr",
     "output_type": "stream",
     "text": [
      "                                                                                \r"
     ]
    }
   ],
   "source": [
    "# get the number of data we are going to remove\n",
    "print((yellow.where((F.col('tip_prop') < 0) | (F.col('tip_prop') > 0.5) | \n",
    "              (F.col('trip_distance') > 500))).count())\n",
    "# keep the data that satisfy the conditions written above.\n",
    "yellow = yellow.where((F.col('tip_prop') >= 0) & (F.col('tip_prop') <= 0.5) & \n",
    "                      (F.col('trip_distance') <= 500))"
   ]
  },
  {
   "cell_type": "markdown",
   "metadata": {},
   "source": [
    "Given that the starting price of a trip is $2.5. Hence we remove all trip that has price less than $2.5"
   ]
  },
  {
   "cell_type": "code",
   "execution_count": 32,
   "metadata": {},
   "outputs": [
    {
     "name": "stderr",
     "output_type": "stream",
     "text": [
      "[Stage 51:===================================================>    (11 + 1) / 12]\r"
     ]
    },
    {
     "name": "stdout",
     "output_type": "stream",
     "text": [
      "47\n"
     ]
    },
    {
     "name": "stderr",
     "output_type": "stream",
     "text": [
      "                                                                                \r"
     ]
    }
   ],
   "source": [
    "# get the number of data we are going to remove\n",
    "print(yellow.where((F.col('tip_amount') < 0) & (F.col('fare_amount') < 2.5) & \n",
    "                   (F.col('total_amount') < 2.5)).count())\n",
    "# keep data with positive revenue\n",
    "yellow = yellow.where((F.col('tip_amount') >= 0) & (F.col('fare_amount') >= 2.5) & \n",
    "                      (F.col('total_amount') >= 2.5))"
   ]
  },
  {
   "cell_type": "markdown",
   "metadata": {},
   "source": [
    "Adding weather data, assuming the temperature of new york city is same for every zone.\\\n",
    "https://www.ncdc.noaa.gov/cdo-web/datasets/GHCND/stations/GHCND:USW00094728/detail\\\n",
    "data description linked below\\\n",
    "https://www.ncei.noaa.gov/data/daily-summaries/doc/GHCND_documentation.pdf"
   ]
  },
  {
   "cell_type": "code",
   "execution_count": 33,
   "metadata": {},
   "outputs": [],
   "source": [
    "import pandas as pd\n",
    "import matplotlib.pyplot as plt"
   ]
  },
  {
   "cell_type": "code",
   "execution_count": 34,
   "metadata": {},
   "outputs": [],
   "source": [
    "# read our external data\n",
    "weather = pd.read_csv(\"../data/raw/weather.csv\")"
   ]
  },
  {
   "cell_type": "markdown",
   "metadata": {},
   "source": [
    "Determine the strength of wind based on AWND (average wind speed meters per second)\\\n",
    "https://www.weather.gov/mfl/beaufort"
   ]
  },
  {
   "cell_type": "code",
   "execution_count": 35,
   "metadata": {},
   "outputs": [
    {
     "data": {
      "image/png": "[encoded data removed]",
      "text/plain": [
       "<Figure size 640x480 with 1 Axes>"
      ]
     },
     "metadata": {},
     "output_type": "display_data"
    }
   ],
   "source": [
    "# define the wind strength based on the distribution of average wind speed\n",
    "# draw a histogram to visualize the distribution of average wind speed\n",
    "weather[\"AWND\"].plot(kind=\"hist\")\n",
    "plt.xlabel('Average Wind Speed (m/s)')\n",
    "plt.title('Distribution of Average Wind Speed')\n",
    "plt.show()"
   ]
  },
  {
   "cell_type": "markdown",
   "metadata": {},
   "source": [
    "Identify the level of wind speed\\\n",
    "level 1 for 0-2m/s\\\n",
    "level 2 for 2-4m/s\\\n",
    "level 3 for 4-6m/s\\\n",
    "level 4 for 6-8m/s\\\n",
    "level 5 for 8-15m/s\n"
   ]
  },
  {
   "cell_type": "code",
   "execution_count": 36,
   "metadata": {},
   "outputs": [],
   "source": [
    "# categorize wind strength as mentioned above\n",
    "weather.loc[weather[\"AWND\"] < 2, 'wind_strength'] = '1'\n",
    "weather.loc[(weather[\"AWND\"] >= 2) & (weather[\"AWND\"] < 4), 'wind_strength'] = '2'\n",
    "weather.loc[(weather[\"AWND\"] >= 4) & (weather[\"AWND\"] < 6), 'wind_strength'] = '3'\n",
    "weather.loc[(weather[\"AWND\"] >= 6) & (weather[\"AWND\"] < 8), 'wind_strength'] = '4'\n",
    "weather.loc[weather[\"AWND\"] >= 8, 'wind_strength'] = '5'"
   ]
  },
  {
   "cell_type": "code",
   "execution_count": 37,
   "metadata": {},
   "outputs": [],
   "source": [
    "# let all nah value be 0\n",
    "weather['SNOW'] = weather['SNOW'].apply(lambda x: '0' if x == 0 else '1')"
   ]
  },
  {
   "cell_type": "code",
   "execution_count": 38,
   "metadata": {},
   "outputs": [],
   "source": [
    "# get the average temperature, since majority of TAVG is NULL\n",
    "weather['TAVG'] = (weather['TMAX']+weather['TMIN'])/2"
   ]
  },
  {
   "cell_type": "markdown",
   "metadata": {},
   "source": [
    "From the data description, 'WT01' represents light fog, and 'WT02' represents heavy fog. Since 'WT01' may include heavy fog, so we combine them as 'fog' (whether fog on that day)"
   ]
  },
  {
   "cell_type": "code",
   "execution_count": 39,
   "metadata": {},
   "outputs": [],
   "source": [
    "# combine two features\n",
    "weather.loc[(weather[\"WT01\"] == 1) | (weather[\"WT02\"] == 1), 'fog'] = '1'\n",
    "weather['fog'] = weather['fog'].apply(lambda x: '1' if x == 1 else '0')"
   ]
  },
  {
   "cell_type": "code",
   "execution_count": 40,
   "metadata": {},
   "outputs": [],
   "source": [
    "# rename the feature for easier understanding\n",
    "weather = weather.rename(columns = {'WT03':'thunder'})\n",
    "weather['thunder'] = weather['thunder'].apply(lambda x: '1' if x == 1 else '0')"
   ]
  },
  {
   "cell_type": "code",
   "execution_count": 41,
   "metadata": {},
   "outputs": [],
   "source": [
    "weather = weather.rename(columns = {'WT08':'haze'})\n",
    "weather['haze'] = weather['haze'].apply(lambda x: '1' if x == 1 else '0')"
   ]
  },
  {
   "cell_type": "code",
   "execution_count": 42,
   "metadata": {},
   "outputs": [],
   "source": [
    "# change the column names to lower cases\n",
    "weather.columns = weather.columns.str.lower()"
   ]
  },
  {
   "cell_type": "code",
   "execution_count": 43,
   "metadata": {},
   "outputs": [],
   "source": [
    "# remove the year from 'date' column\n",
    "weather['date'] = weather['date'].str[5:]"
   ]
  },
  {
   "cell_type": "code",
   "execution_count": 44,
   "metadata": {},
   "outputs": [],
   "source": [
    "# keep the attributes that we need\n",
    "weather_final = weather[['date','snow','tavg','fog','thunder','haze','wind_strength']]"
   ]
  },
  {
   "cell_type": "code",
   "execution_count": 45,
   "metadata": {},
   "outputs": [],
   "source": [
    "# store the adjusted weather into csv file\n",
    "weather_final.to_csv(\"../data/curated/weather.csv\",index=False)"
   ]
  },
  {
   "cell_type": "code",
   "execution_count": 46,
   "metadata": {},
   "outputs": [],
   "source": [
    "# convert weather from pandas dataframe to pyspark dataframe\n",
    "weather = spark.createDataFrame(weather_final)\n",
    "\n",
    "# add weather into our taxi data set\n",
    "yellow = yellow.join(weather,weather['date'] == yellow['pickup_date'],how='left')"
   ]
  },
  {
   "cell_type": "code",
   "execution_count": 47,
   "metadata": {},
   "outputs": [],
   "source": [
    "# drop the feature that we are no longer interested\n",
    "yellow = yellow.drop('pickup_year','pickup_date')"
   ]
  },
  {
   "cell_type": "code",
   "execution_count": 48,
   "metadata": {},
   "outputs": [],
   "source": [
    "from pyspark.sql.functions import sum"
   ]
  },
  {
   "cell_type": "code",
   "execution_count": 54,
   "metadata": {},
   "outputs": [
    {
     "name": "stderr",
     "output_type": "stream",
     "text": [
      "[Stage 77:=============================>                            (2 + 2) / 4]\r"
     ]
    },
    {
     "name": "stdout",
     "output_type": "stream",
     "text": [
      "+---------+--------+------------+---------+\n",
      "|sum(snow)|sum(fog)|sum(thunder)|sum(haze)|\n",
      "+---------+--------+------------+---------+\n",
      "| 491718.0|     0.0|   2014925.0|4580087.0|\n",
      "+---------+--------+------------+---------+\n",
      "\n"
     ]
    },
    {
     "name": "stderr",
     "output_type": "stream",
     "text": [
      "                                                                                \r"
     ]
    }
   ],
   "source": [
    "# get the amount of trips in extreme weather\n",
    "yellow.select(sum(yellow.snow),sum(yellow.fog),sum(yellow.thunder),sum(yellow.haze)).show()"
   ]
  },
  {
   "cell_type": "code",
   "execution_count": 55,
   "metadata": {},
   "outputs": [],
   "source": [
    "# Since there is no trip in fog, we delete fog as a feature.\n",
    "yellow = yellow.drop('fog')"
   ]
  },
  {
   "cell_type": "code",
   "execution_count": 56,
   "metadata": {},
   "outputs": [
    {
     "name": "stderr",
     "output_type": "stream",
     "text": [
      "                                                                                \r"
     ]
    }
   ],
   "source": [
    "# save data into curated file\n",
    "yellow.write.parquet(\"../data/curated/yellow.parquet\")"
   ]
  }
 ],
 "metadata": {
  "kernelspec": {
   "display_name": "base",
   "language": "python",
   "name": "python3"
  },
  "language_info": {
   "codemirror_mode": {
    "name": "ipython",
    "version": 3
   },
   "file_extension": ".py",
   "mimetype": "text/x-python",
   "name": "python",
   "nbconvert_exporter": "python",
   "pygments_lexer": "ipython3",
   "version": "3.9.13"
  }
 },
 "nbformat": 4,
 "nbformat_minor": 2
}
